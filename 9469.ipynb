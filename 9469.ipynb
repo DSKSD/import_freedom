{
 "cells": [
  {
   "cell_type": "code",
   "execution_count": 68,
   "metadata": {
    "collapsed": true
   },
   "outputs": [],
   "source": [
    "def von(line):\n",
    "    read = line.split(' ')\n",
    "    index = read[0]\n",
    "    distance = float(read[1])\n",
    "    a_speed = float(read[2])\n",
    "    b_speed = float(read[3])\n",
    "    fly_speed = float(read[4])\n",
    "    \n",
    "    crush_distance = (distance*a_speed)/(a_speed+b_speed)\n",
    "    time = crush_distance/a_speed\n",
    "    \n",
    "    flying_distance = time*fly_speed\n",
    "    \n",
    "    \n",
    "    print(index + ' %.2f' % flying_distance)"
   ]
  },
  {
   "cell_type": "code",
   "execution_count": 70,
   "metadata": {
    "collapsed": false
   },
   "outputs": [
    {
     "name": "stdout",
     "output_type": "stream",
     "text": [
      "1\n",
      "1 250 10 15 20\n",
      "1 200.00\n"
     ]
    }
   ],
   "source": [
    "num = input()\n",
    "lines = []\n",
    "for _ in range(int(num)):\n",
    "    line = input()\n",
    "    lines.append(line)\n",
    "    \n",
    "for i in range(int(num)):\n",
    "    von(lines[i])"
   ]
  },
  {
   "cell_type": "code",
   "execution_count": 63,
   "metadata": {
    "collapsed": false
   },
   "outputs": [
    {
     "data": {
      "text/plain": [
       "416.6666666666667"
      ]
     },
     "execution_count": 63,
     "metadata": {},
     "output_type": "execute_result"
    }
   ],
   "source": [
    "flying_distance"
   ]
  },
  {
   "cell_type": "code",
   "execution_count": 44,
   "metadata": {
    "collapsed": true
   },
   "outputs": [],
   "source": [
    "a_speed = 10\n",
    "b_speed = 15\n",
    "fly_speed = 20"
   ]
  },
  {
   "cell_type": "code",
   "execution_count": 45,
   "metadata": {
    "collapsed": true
   },
   "outputs": [],
   "source": [
    "epsilon = 0.00001\n",
    "distance = 250\n",
    "i = 0\n",
    "fly_cumulated = 0"
   ]
  },
  {
   "cell_type": "code",
   "execution_count": 46,
   "metadata": {
    "collapsed": false
   },
   "outputs": [
    {
     "data": {
      "text/plain": [
       "325.0"
      ]
     },
     "execution_count": 46,
     "metadata": {},
     "output_type": "execute_result"
    }
   ],
   "source": [
    "distance/a_speed + b_speed*fly_speed"
   ]
  },
  {
   "cell_type": "code",
   "execution_count": 43,
   "metadata": {
    "collapsed": false
   },
   "outputs": [
    {
     "name": "stdout",
     "output_type": "stream",
     "text": [
      "142.85714285714286\n",
      "40.816326530612244\n",
      "5.830903790087463\n",
      "1.6659725114535608\n",
      "0.23799607306479434\n",
      "0.06799887801851268\n",
      "0.009714125431216096\n",
      "0.002775464408918885\n",
      "0.0003964949155598407\n",
      "0.00011328426158852594\n",
      "1.6183465941217996e-05\n"
     ]
    }
   ],
   "source": [
    "while distance > epsilon:\n",
    "    \n",
    "    if i%2 == 0:\n",
    "        fly_move = fly_speed*distance/(b_speed+fly_speed)\n",
    "        fly_time = fly_move/fly_speed\n",
    "        b_move = distance-fly_move\n",
    "        a_move = fly_time*a_speed\n",
    "        print(fly_move)\n",
    "\n",
    "        \n",
    "    else:\n",
    "        fly_move = fly_speed*distance/(b_speed+fly_speed)\n",
    "        fly_time = fly_move/fly_speed\n",
    "        a_move = distance-fly_move\n",
    "        b_move = fly_time*b_speed\n",
    "        print(fly_move)\n",
    "        \n",
    "    fly_cumulated+=fly_move\n",
    "    i+=1\n",
    "    distance = distance - a_move - b_move"
   ]
  },
  {
   "cell_type": "code",
   "execution_count": 40,
   "metadata": {
    "collapsed": false
   },
   "outputs": [
    {
     "data": {
      "text/plain": [
       "191.48935619286266"
      ]
     },
     "execution_count": 40,
     "metadata": {},
     "output_type": "execute_result"
    }
   ],
   "source": [
    "fly_cumulated"
   ]
  },
  {
   "cell_type": "code",
   "execution_count": 8,
   "metadata": {
    "collapsed": false
   },
   "outputs": [
    {
     "name": "stdout",
     "output_type": "stream",
     "text": [
      "5\n",
      "1 250 10 15 20\n",
      "1 200.00\n",
      "2 10.7 3.5 4.7 5.5\n",
      "2 7.18\n",
      "523.7 15.3 20.7 33.3\n"
     ]
    },
    {
     "ename": "IndexError",
     "evalue": "list index out of range",
     "output_type": "error",
     "traceback": [
      "\u001b[0;31m---------------------------------------------------------------------------\u001b[0m",
      "\u001b[0;31mIndexError\u001b[0m                                Traceback (most recent call last)",
      "\u001b[0;32m<ipython-input-8-1cc28b7466f6>\u001b[0m in \u001b[0;36m<module>\u001b[0;34m()\u001b[0m\n\u001b[1;32m     18\u001b[0m     \u001b[0mx\u001b[0m \u001b[0;34m=\u001b[0m  \u001b[0mX\u001b[0m\u001b[0;34m.\u001b[0m\u001b[0msplit\u001b[0m\u001b[0;34m(\u001b[0m\u001b[0;34m' '\u001b[0m\u001b[0;34m)\u001b[0m\u001b[0;34m\u001b[0m\u001b[0m\n\u001b[1;32m     19\u001b[0m \u001b[0;34m\u001b[0m\u001b[0m\n\u001b[0;32m---> 20\u001b[0;31m     \u001b[0mprint\u001b[0m\u001b[0;34m(\u001b[0m\u001b[0mj\u001b[0m\u001b[0;34m+\u001b[0m\u001b[0;36m1\u001b[0m\u001b[0;34m,\u001b[0m \u001b[0mvon\u001b[0m\u001b[0;34m(\u001b[0m\u001b[0mx\u001b[0m\u001b[0;34m[\u001b[0m\u001b[0;36m1\u001b[0m\u001b[0;34m]\u001b[0m\u001b[0;34m,\u001b[0m\u001b[0mx\u001b[0m\u001b[0;34m[\u001b[0m\u001b[0;36m2\u001b[0m\u001b[0;34m]\u001b[0m\u001b[0;34m,\u001b[0m\u001b[0mx\u001b[0m\u001b[0;34m[\u001b[0m\u001b[0;36m3\u001b[0m\u001b[0;34m]\u001b[0m\u001b[0;34m,\u001b[0m\u001b[0mx\u001b[0m\u001b[0;34m[\u001b[0m\u001b[0;36m4\u001b[0m\u001b[0;34m]\u001b[0m\u001b[0;34m)\u001b[0m\u001b[0;34m)\u001b[0m\u001b[0;34m\u001b[0m\u001b[0m\n\u001b[0m",
      "\u001b[0;31mIndexError\u001b[0m: list index out of range"
     ]
    }
   ],
   "source": [
    "\n",
    "def von(D,A,B,F):\n",
    "    \n",
    "    d = float(D)\n",
    "    a = float(A)\n",
    "    b = float(B)\n",
    "    f = float(F)\n",
    "    x = d/(a+b)\n",
    "    \n",
    "    return '%.2f' % (x*f)\n",
    "    \n",
    "    \n",
    "case = input()\n",
    "\n",
    "\n",
    "for j in range(int(case)):\n",
    "    X = input()\n",
    "    x =  X.split(' ')\n",
    "\n",
    "    print(j+1, von(x[1],x[2],x[3],x[4]))"
   ]
  },
  {
   "cell_type": "code",
   "execution_count": null,
   "metadata": {
    "collapsed": true
   },
   "outputs": [],
   "source": []
  }
 ],
 "metadata": {
  "kernelspec": {
   "display_name": "Python 3",
   "language": "python",
   "name": "python3"
  },
  "language_info": {
   "codemirror_mode": {
    "name": "ipython",
    "version": 3
   },
   "file_extension": ".py",
   "mimetype": "text/x-python",
   "name": "python",
   "nbconvert_exporter": "python",
   "pygments_lexer": "ipython3",
   "version": "3.4.3"
  }
 },
 "nbformat": 4,
 "nbformat_minor": 0
}
