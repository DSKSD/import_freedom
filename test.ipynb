{
 "cells": [
  {
   "cell_type": "code",
   "execution_count": 11,
   "metadata": {
    "collapsed": true,
    "deletable": true,
    "editable": true
   },
   "outputs": [],
   "source": [
    "from urllib.request import urlopen\n",
    "import urllib.parse\n",
    "import urllib.request\n",
    "from bs4 import BeautifulSoup\n",
    "import random"
   ]
  },
  {
   "cell_type": "code",
   "execution_count": 3,
   "metadata": {
    "collapsed": true,
    "deletable": true,
    "editable": true
   },
   "outputs": [],
   "source": [
    "page_select = random.choice(range(1,136))"
   ]
  },
  {
   "cell_type": "code",
   "execution_count": 9,
   "metadata": {
    "collapsed": true,
    "deletable": true,
    "editable": true
   },
   "outputs": [],
   "source": [
    "hdr = {'User-Agent': 'Mozilla/5.0', 'referer' : 'http://m.naver.com'}"
   ]
  },
  {
   "cell_type": "code",
   "execution_count": 4,
   "metadata": {
    "collapsed": true,
    "deletable": true,
    "editable": true
   },
   "outputs": [],
   "source": [
    "pre_url = 'https://www.acmicpc.net/problemset/' + str(page_select)"
   ]
  },
  {
   "cell_type": "code",
   "execution_count": 6,
   "metadata": {
    "collapsed": false,
    "deletable": true,
    "editable": true
   },
   "outputs": [
    {
     "data": {
      "text/plain": [
       "'https://www.acmicpc.net/problemset/130'"
      ]
     },
     "execution_count": 6,
     "metadata": {},
     "output_type": "execute_result"
    }
   ],
   "source": [
    "pre_url"
   ]
  },
  {
   "cell_type": "code",
   "execution_count": 14,
   "metadata": {
    "collapsed": false,
    "deletable": true,
    "editable": true
   },
   "outputs": [],
   "source": [
    "url = urllib.request.Request(pre_url, headers=hdr)\n",
    "my_url = urlopen(url)\n",
    "soup = BeautifulSoup(my_url,'html.parser')"
   ]
  },
  {
   "cell_type": "code",
   "execution_count": 15,
   "metadata": {
    "collapsed": true,
    "deletable": true,
    "editable": true
   },
   "outputs": [],
   "source": [
    "table = soup.find_all(id=\"problemset\")"
   ]
  },
  {
   "cell_type": "code",
   "execution_count": 21,
   "metadata": {
    "collapsed": false,
    "deletable": true,
    "editable": true
   },
   "outputs": [],
   "source": [
    "problems = table[0].find_all(\"tr\")"
   ]
  },
  {
   "cell_type": "code",
   "execution_count": 24,
   "metadata": {
    "collapsed": false,
    "deletable": true,
    "editable": true
   },
   "outputs": [],
   "source": [
    "problems = problems[1:]"
   ]
  },
  {
   "cell_type": "code",
   "execution_count": 44,
   "metadata": {
    "collapsed": false,
    "deletable": true,
    "editable": true
   },
   "outputs": [
    {
     "data": {
      "text/plain": [
       "99"
      ]
     },
     "execution_count": 44,
     "metadata": {},
     "output_type": "execute_result"
    }
   ],
   "source": [
    "len(problems)"
   ]
  },
  {
   "cell_type": "code",
   "execution_count": 45,
   "metadata": {
    "collapsed": true,
    "deletable": true,
    "editable": true
   },
   "outputs": [],
   "source": [
    "select = random.choice(range(1,100))"
   ]
  },
  {
   "cell_type": "code",
   "execution_count": 46,
   "metadata": {
    "collapsed": true,
    "deletable": true,
    "editable": true
   },
   "outputs": [],
   "source": [
    "p = problems[select]"
   ]
  },
  {
   "cell_type": "code",
   "execution_count": 48,
   "metadata": {
    "collapsed": false,
    "deletable": true,
    "editable": true
   },
   "outputs": [
    {
     "name": "stdout",
     "output_type": "stream",
     "text": [
      "70.000% British Menu https://www.acmicpc.net/problem/13929\n"
     ]
    }
   ],
   "source": [
    "hard = p.find_all(\"td\")[-1].text\n",
    "name = p.find(class_=\"click-this\").text\n",
    "dum = \"https://www.acmicpc.net\"\n",
    "link = dum + p.find(class_=\"click-this\").a['href']\n",
    "\n",
    "if float(hard[:-1]) < 50.0:\n",
    "    print(\"so hard\")\n",
    "else:\n",
    "    print(hard,name,link)"
   ]
  },
  {
   "cell_type": "code",
   "execution_count": 51,
   "metadata": {
    "collapsed": true,
    "deletable": true,
    "editable": true
   },
   "outputs": [],
   "source": [
    "DONE_PROBLEMS = open(\"problems.txt\",'r').readlines()"
   ]
  },
  {
   "cell_type": "code",
   "execution_count": 52,
   "metadata": {
    "collapsed": false,
    "deletable": true,
    "editable": true
   },
   "outputs": [
    {
     "data": {
      "text/plain": [
       "[]"
      ]
     },
     "execution_count": 52,
     "metadata": {},
     "output_type": "execute_result"
    }
   ],
   "source": [
    "DONE_PROBLEMS"
   ]
  },
  {
   "cell_type": "code",
   "execution_count": 50,
   "metadata": {
    "collapsed": false,
    "deletable": true,
    "editable": true
   },
   "outputs": [
    {
     "data": {
      "text/plain": [
       "<tr>\n",
       "<td class=\"list_problem_id\">13900</td>\n",
       "<td class=\"click-this\"><a href=\"/problem/13900\">순서쌍의 곱의 합</a></td>\n",
       "<td>\n",
       "<span class=\"label label-primary\">출처</span>\n",
       "</td>\n",
       "<td><a href=\"/status/?problem_id=13900&amp;result_id=4\">450</a></td>\n",
       "<td><a href=\"/status/?problem_id=13900\">2120</a></td>\n",
       "<td>28.780%</td>\n",
       "</tr>"
      ]
     },
     "execution_count": 50,
     "metadata": {},
     "output_type": "execute_result"
    }
   ],
   "source": [
    "problems[0]"
   ]
  },
  {
   "cell_type": "code",
   "execution_count": null,
   "metadata": {
    "collapsed": true,
    "deletable": true,
    "editable": true
   },
   "outputs": [],
   "source": [
    "def searchElec(searchItem='',page_number=2, new=False):\n",
    "    query = urllib.parse.quote_plus(searchItem)\n",
    "    pre_url = \"http://shopping.naver.com/search/all.nhn?query=\"\n",
    "\n",
    "# pagingIndex=2\n",
    "    if new ==True:\n",
    "        with open(\"data/naver_elec.txt\", 'w', encoding='utf8') as f:\n",
    "                f.write(\"\")\n",
    "    \n",
    "    for item_no in range(1, page_number+1): #400 즉, 4000개의 아이템만 볼 수 있음\n",
    "\n",
    "        pre_url2 = pre_url + query + '&pagingIndex=' + str(item_no)\n",
    "        try:\n",
    "            url = urlopen(pre_url2)\n",
    "           # print(pre_url2)\n",
    "        except:\n",
    "            print (\"urlopen error!\")\n",
    "            return None\n",
    "        soup = BeautifulSoup(url, 'html.parser')\n",
    "        productlist = soup.find_all(\"a\", class_=\"tit\")\n",
    "   #     print (\"%d 페이지 크롤링...\" % item_no)\n",
    "        #with open(\"naver지식인.txt\", 'a', encoding='utf8') as f:\n",
    "        for i in productlist:    \n",
    "            a = i.text\n",
    "          #  print(a)\n",
    "            with open(\"data/naver_elec.txt\", 'a', encoding='utf8') as f:\n",
    "                f.write(a.lstrip() + \"\\n\")\n",
    "        print (\"Complete!\")\n"
   ]
  },
  {
   "cell_type": "code",
   "execution_count": 3,
   "metadata": {
    "collapsed": false
   },
   "outputs": [
    {
     "name": "stdout",
     "output_type": "stream",
     "text": [
      "5 5\n"
     ]
    }
   ],
   "source": [
    "x = input()"
   ]
  },
  {
   "cell_type": "code",
   "execution_count": 7,
   "metadata": {
    "collapsed": false
   },
   "outputs": [],
   "source": [
    "length = int(x.split(' ')[0])\n",
    "limit = int(x.split(' ')[1])"
   ]
  },
  {
   "cell_type": "code",
   "execution_count": 25,
   "metadata": {
    "collapsed": false
   },
   "outputs": [
    {
     "name": "stdout",
     "output_type": "stream",
     "text": [
      "4 2 3 7 6\n"
     ]
    }
   ],
   "source": [
    "seq = input()"
   ]
  },
  {
   "cell_type": "code",
   "execution_count": 26,
   "metadata": {
    "collapsed": false
   },
   "outputs": [],
   "source": [
    "seq = [int(s) for s in seq.split(' ')]"
   ]
  },
  {
   "cell_type": "code",
   "execution_count": 27,
   "metadata": {
    "collapsed": false
   },
   "outputs": [
    {
     "data": {
      "text/plain": [
       "[4, 2, 3, 7, 6]"
      ]
     },
     "execution_count": 27,
     "metadata": {},
     "output_type": "execute_result"
    }
   ],
   "source": [
    "seq"
   ]
  },
  {
   "cell_type": "code",
   "execution_count": 61,
   "metadata": {
    "collapsed": false
   },
   "outputs": [],
   "source": [
    "def maxMargin(seq):\n",
    "\n",
    "    T = []\n",
    "    for i in range(len(seq)):\n",
    "\n",
    "        if i == 0:\n",
    "            T.append(abs(seq[i]-seq[i+1]))\n",
    "        elif i == len(seq)-1:\n",
    "            T.append(abs(seq[i-1]-seq[i]))\n",
    "        else:\n",
    "            left = abs(seq[i-1]-seq[i])\n",
    "            right = abs(seq[i+1]-seq[i])\n",
    "            T.append(max(left,right))\n",
    "\n",
    "    return T"
   ]
  },
  {
   "cell_type": "code",
   "execution_count": 82,
   "metadata": {
    "collapsed": true
   },
   "outputs": [],
   "source": [
    "seq = [4, 2, 3, 7, 6]"
   ]
  },
  {
   "cell_type": "code",
   "execution_count": 79,
   "metadata": {
    "collapsed": false
   },
   "outputs": [
    {
     "data": {
      "text/plain": [
       "[2, 2, 4, 4, 1]"
      ]
     },
     "execution_count": 79,
     "metadata": {},
     "output_type": "execute_result"
    }
   ],
   "source": [
    "maxMargin(seq)"
   ]
  },
  {
   "cell_type": "code",
   "execution_count": 83,
   "metadata": {
    "collapsed": false
   },
   "outputs": [
    {
     "name": "stdout",
     "output_type": "stream",
     "text": [
      "[4, 2, 2, 7, 6]\n",
      "[4, 2, 1, 7, 6]\n",
      "[4, 2, 0, 7, 6]\n",
      "[4, 2, 0, 6, 6]\n",
      "[4, 2, 0, 5, 6]\n"
     ]
    }
   ],
   "source": [
    "for _ in range(limit):\n",
    "    margin_seq = maxMargin(seq)\n",
    "    max_var_idx = seq.index(max(seq))\n",
    "    \n",
    "    if seq[max_var_idx] == max(margin_seq):\n",
    "        seq[max_var_idx]-=1\n",
    "    else:\n",
    "        max_margin_idx = margin_seq.index(max(maxMargin(seq)))\n",
    "        seq[max_margin_idx]-=1\n",
    "    \n",
    "    print(seq)"
   ]
  },
  {
   "cell_type": "code",
   "execution_count": 76,
   "metadata": {
    "collapsed": false
   },
   "outputs": [
    {
     "data": {
      "text/plain": [
       "[2, 2, 5, 5, 1]"
      ]
     },
     "execution_count": 76,
     "metadata": {},
     "output_type": "execute_result"
    }
   ],
   "source": [
    "maxMargin(seq)"
   ]
  },
  {
   "cell_type": "code",
   "execution_count": 77,
   "metadata": {
    "collapsed": false
   },
   "outputs": [
    {
     "data": {
      "text/plain": [
       "[4, 2, 0, 5, 6]"
      ]
     },
     "execution_count": 77,
     "metadata": {},
     "output_type": "execute_result"
    }
   ],
   "source": [
    "seq"
   ]
  },
  {
   "cell_type": "code",
   "execution_count": null,
   "metadata": {
    "collapsed": true
   },
   "outputs": [],
   "source": []
  }
 ],
 "metadata": {
  "kernelspec": {
   "display_name": "Python 3",
   "language": "python",
   "name": "python3"
  },
  "language_info": {
   "codemirror_mode": {
    "name": "ipython",
    "version": 3
   },
   "file_extension": ".py",
   "mimetype": "text/x-python",
   "name": "python",
   "nbconvert_exporter": "python",
   "pygments_lexer": "ipython3",
   "version": "3.5.2"
  }
 },
 "nbformat": 4,
 "nbformat_minor": 2
}
