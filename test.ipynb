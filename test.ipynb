{
 "cells": [
  {
   "cell_type": "code",
   "execution_count": 3,
   "metadata": {
    "collapsed": false
   },
   "outputs": [],
   "source": [
    "with open(\"problems.txt\",'a',encoding='utf-8') as f:\n",
    "    f.write('9469\\t폰 노이만\\thttps://www.acmicpc.net/problem/9469\\n')"
   ]
  },
  {
   "cell_type": "code",
   "execution_count": 1,
   "metadata": {
    "collapsed": true,
    "deletable": true,
    "editable": true
   },
   "outputs": [],
   "source": [
    "from urllib.request import urlopen\n",
    "import urllib.parse\n",
    "import urllib.request\n",
    "from bs4 import BeautifulSoup\n",
    "import random"
   ]
  },
  {
   "cell_type": "code",
   "execution_count": 3,
   "metadata": {
    "collapsed": true,
    "deletable": true,
    "editable": true
   },
   "outputs": [],
   "source": [
    "page_select = random.choice(range(1,136))"
   ]
  },
  {
   "cell_type": "code",
   "execution_count": 2,
   "metadata": {
    "collapsed": true,
    "deletable": true,
    "editable": true
   },
   "outputs": [],
   "source": [
    "hdr = {'User-Agent': 'Mozilla/5.0', 'referer' : 'http://m.naver.com'}"
   ]
  },
  {
   "cell_type": "code",
   "execution_count": 4,
   "metadata": {
    "collapsed": true,
    "deletable": true,
    "editable": true
   },
   "outputs": [],
   "source": [
    "pre_url = 'https://www.acmicpc.net/problemset/' + str(page_select)"
   ]
  },
  {
   "cell_type": "code",
   "execution_count": 33,
   "metadata": {
    "collapsed": false
   },
   "outputs": [],
   "source": [
    "pre_url = 'https://www.acmicpc.net/user/ksd1222'"
   ]
  },
  {
   "cell_type": "code",
   "execution_count": 34,
   "metadata": {
    "collapsed": false,
    "deletable": true,
    "editable": true
   },
   "outputs": [
    {
     "data": {
      "text/plain": [
       "'https://www.acmicpc.net/user/ksd1222'"
      ]
     },
     "execution_count": 34,
     "metadata": {},
     "output_type": "execute_result"
    }
   ],
   "source": [
    "pre_url"
   ]
  },
  {
   "cell_type": "code",
   "execution_count": 35,
   "metadata": {
    "collapsed": false,
    "deletable": true,
    "editable": true
   },
   "outputs": [],
   "source": [
    "url = urllib.request.Request(pre_url, headers=hdr)\n",
    "my_url = urlopen(url)\n",
    "soup = BeautifulSoup(my_url,'html.parser')"
   ]
  },
  {
   "cell_type": "code",
   "execution_count": 36,
   "metadata": {
    "collapsed": true,
    "deletable": true,
    "editable": true
   },
   "outputs": [],
   "source": [
    "table = soup.find_all(class_=\"panel-body\")"
   ]
  },
  {
   "cell_type": "code",
   "execution_count": 41,
   "metadata": {
    "collapsed": false
   },
   "outputs": [
    {
     "data": {
      "text/plain": [
       "'2902'"
      ]
     },
     "execution_count": 41,
     "metadata": {},
     "output_type": "execute_result"
    }
   ],
   "source": [
    "table[0].find_all(class_=\"problem_number\")[0].text"
   ]
  },
  {
   "cell_type": "code",
   "execution_count": 48,
   "metadata": {
    "collapsed": true
   },
   "outputs": [],
   "source": [
    "current_problem = open(\"problems.txt\", 'r').readlines()[-1]"
   ]
  },
  {
   "cell_type": "code",
   "execution_count": 49,
   "metadata": {
    "collapsed": false
   },
   "outputs": [
    {
     "data": {
      "text/plain": [
       "'9469\\n'"
      ]
     },
     "execution_count": 49,
     "metadata": {},
     "output_type": "execute_result"
    }
   ],
   "source": [
    "current_problem"
   ]
  },
  {
   "cell_type": "code",
   "execution_count": 45,
   "metadata": {
    "collapsed": true
   },
   "outputs": [],
   "source": [
    "z = ['hi','bye']"
   ]
  },
  {
   "cell_type": "code",
   "execution_count": 46,
   "metadata": {
    "collapsed": true
   },
   "outputs": [],
   "source": [
    "d = dict.fromkeys(z, 0)"
   ]
  },
  {
   "cell_type": "code",
   "execution_count": 47,
   "metadata": {
    "collapsed": false
   },
   "outputs": [
    {
     "data": {
      "text/plain": [
       "{'bye': 0, 'hi': 0}"
      ]
     },
     "execution_count": 47,
     "metadata": {},
     "output_type": "execute_result"
    }
   ],
   "source": [
    "d"
   ]
  },
  {
   "cell_type": "code",
   "execution_count": 43,
   "metadata": {
    "collapsed": true
   },
   "outputs": [],
   "source": [
    "problem = table[0].find_all(class_=\"problem_number\")"
   ]
  },
  {
   "cell_type": "code",
   "execution_count": 44,
   "metadata": {
    "collapsed": false
   },
   "outputs": [
    {
     "name": "stdout",
     "output_type": "stream",
     "text": [
      "2902\n",
      "3090\n",
      "5598\n",
      "9469\n"
     ]
    }
   ],
   "source": [
    "for i in range(len(problem)):\n",
    "    ids = problem[i].text\n",
    "    print(ids)"
   ]
  },
  {
   "cell_type": "code",
   "execution_count": 21,
   "metadata": {
    "collapsed": false,
    "deletable": true,
    "editable": true
   },
   "outputs": [],
   "source": [
    "problems = table[0].find_all(\"tr\")"
   ]
  },
  {
   "cell_type": "code",
   "execution_count": 24,
   "metadata": {
    "collapsed": false,
    "deletable": true,
    "editable": true
   },
   "outputs": [],
   "source": [
    "problems = problems[1:]"
   ]
  },
  {
   "cell_type": "code",
   "execution_count": 44,
   "metadata": {
    "collapsed": false,
    "deletable": true,
    "editable": true
   },
   "outputs": [
    {
     "data": {
      "text/plain": [
       "99"
      ]
     },
     "execution_count": 44,
     "metadata": {},
     "output_type": "execute_result"
    }
   ],
   "source": [
    "len(problems)"
   ]
  },
  {
   "cell_type": "code",
   "execution_count": 45,
   "metadata": {
    "collapsed": true,
    "deletable": true,
    "editable": true
   },
   "outputs": [],
   "source": [
    "select = random.choice(range(1,100))"
   ]
  },
  {
   "cell_type": "code",
   "execution_count": 46,
   "metadata": {
    "collapsed": true,
    "deletable": true,
    "editable": true
   },
   "outputs": [],
   "source": [
    "p = problems[select]"
   ]
  },
  {
   "cell_type": "code",
   "execution_count": 48,
   "metadata": {
    "collapsed": false,
    "deletable": true,
    "editable": true
   },
   "outputs": [
    {
     "name": "stdout",
     "output_type": "stream",
     "text": [
      "70.000% British Menu https://www.acmicpc.net/problem/13929\n"
     ]
    }
   ],
   "source": [
    "hard = p.find_all(\"td\")[-1].text\n",
    "name = p.find(class_=\"click-this\").text\n",
    "dum = \"https://www.acmicpc.net\"\n",
    "link = dum + p.find(class_=\"click-this\").a['href']\n",
    "\n",
    "if float(hard[:-1]) < 50.0:\n",
    "    print(\"so hard\")\n",
    "else:\n",
    "    print(hard,name,link)"
   ]
  },
  {
   "cell_type": "code",
   "execution_count": 51,
   "metadata": {
    "collapsed": true,
    "deletable": true,
    "editable": true
   },
   "outputs": [],
   "source": [
    "DONE_PROBLEMS = open(\"problems.txt\",'r').readlines()"
   ]
  },
  {
   "cell_type": "code",
   "execution_count": 52,
   "metadata": {
    "collapsed": false,
    "deletable": true,
    "editable": true
   },
   "outputs": [
    {
     "data": {
      "text/plain": [
       "[]"
      ]
     },
     "execution_count": 52,
     "metadata": {},
     "output_type": "execute_result"
    }
   ],
   "source": [
    "DONE_PROBLEMS"
   ]
  },
  {
   "cell_type": "code",
   "execution_count": 50,
   "metadata": {
    "collapsed": false,
    "deletable": true,
    "editable": true
   },
   "outputs": [
    {
     "data": {
      "text/plain": [
       "<tr>\n",
       "<td class=\"list_problem_id\">13900</td>\n",
       "<td class=\"click-this\"><a href=\"/problem/13900\">순서쌍의 곱의 합</a></td>\n",
       "<td>\n",
       "<span class=\"label label-primary\">출처</span>\n",
       "</td>\n",
       "<td><a href=\"/status/?problem_id=13900&amp;result_id=4\">450</a></td>\n",
       "<td><a href=\"/status/?problem_id=13900\">2120</a></td>\n",
       "<td>28.780%</td>\n",
       "</tr>"
      ]
     },
     "execution_count": 50,
     "metadata": {},
     "output_type": "execute_result"
    }
   ],
   "source": [
    "problems[0]"
   ]
  },
  {
   "cell_type": "code",
   "execution_count": null,
   "metadata": {
    "collapsed": true,
    "deletable": true,
    "editable": true
   },
   "outputs": [],
   "source": [
    "def searchElec(searchItem='',page_number=2, new=False):\n",
    "    query = urllib.parse.quote_plus(searchItem)\n",
    "    pre_url = \"http://shopping.naver.com/search/all.nhn?query=\"\n",
    "\n",
    "# pagingIndex=2\n",
    "    if new ==True:\n",
    "        with open(\"data/naver_elec.txt\", 'w', encoding='utf8') as f:\n",
    "                f.write(\"\")\n",
    "    \n",
    "    for item_no in range(1, page_number+1): #400 즉, 4000개의 아이템만 볼 수 있음\n",
    "\n",
    "        pre_url2 = pre_url + query + '&pagingIndex=' + str(item_no)\n",
    "        try:\n",
    "            url = urlopen(pre_url2)\n",
    "           # print(pre_url2)\n",
    "        except:\n",
    "            print (\"urlopen error!\")\n",
    "            return None\n",
    "        soup = BeautifulSoup(url, 'html.parser')\n",
    "        productlist = soup.find_all(\"a\", class_=\"tit\")\n",
    "   #     print (\"%d 페이지 크롤링...\" % item_no)\n",
    "        #with open(\"naver지식인.txt\", 'a', encoding='utf8') as f:\n",
    "        for i in productlist:    \n",
    "            a = i.text\n",
    "          #  print(a)\n",
    "            with open(\"data/naver_elec.txt\", 'a', encoding='utf8') as f:\n",
    "                f.write(a.lstrip() + \"\\n\")\n",
    "        print (\"Complete!\")\n"
   ]
  },
  {
   "cell_type": "code",
   "execution_count": 81,
   "metadata": {
    "collapsed": false
   },
   "outputs": [
    {
     "name": "stdout",
     "output_type": "stream",
     "text": [
      "5 5\n"
     ]
    }
   ],
   "source": [
    "x = input()"
   ]
  },
  {
   "cell_type": "code",
   "execution_count": 95,
   "metadata": {
    "collapsed": false
   },
   "outputs": [],
   "source": [
    "length = int(x.split(' ')[0])\n",
    "limit = int(x.split(' ')[1])"
   ]
  },
  {
   "cell_type": "code",
   "execution_count": 125,
   "metadata": {
    "collapsed": false
   },
   "outputs": [
    {
     "name": "stdout",
     "output_type": "stream",
     "text": [
      "4 2 3 7 6\n"
     ]
    }
   ],
   "source": [
    "seq = input()"
   ]
  },
  {
   "cell_type": "code",
   "execution_count": 126,
   "metadata": {
    "collapsed": false
   },
   "outputs": [],
   "source": [
    "seq = [int(s) for s in seq.split(' ')]"
   ]
  },
  {
   "cell_type": "code",
   "execution_count": 127,
   "metadata": {
    "collapsed": false
   },
   "outputs": [
    {
     "data": {
      "text/plain": [
       "[4, 2, 3, 7, 6]"
      ]
     },
     "execution_count": 127,
     "metadata": {},
     "output_type": "execute_result"
    }
   ],
   "source": [
    "seq"
   ]
  },
  {
   "cell_type": "code",
   "execution_count": 128,
   "metadata": {
    "collapsed": false
   },
   "outputs": [],
   "source": [
    "def maxMargin(seq):\n",
    "\n",
    "    T = []\n",
    "    for i in range(len(seq)):\n",
    "\n",
    "        if i == len(seq)-1:\n",
    "            break\n",
    "        else:\n",
    "            diff = abs(seq[i+1]-seq[i])\n",
    "            T.append(diff)\n",
    "\n",
    "    return T"
   ]
  },
  {
   "cell_type": "code",
   "execution_count": 129,
   "metadata": {
    "collapsed": false
   },
   "outputs": [
    {
     "data": {
      "text/plain": [
       "[2, 1, 4, 1]"
      ]
     },
     "execution_count": 129,
     "metadata": {},
     "output_type": "execute_result"
    }
   ],
   "source": [
    "maxMargin(seq)"
   ]
  },
  {
   "cell_type": "code",
   "execution_count": 130,
   "metadata": {
    "collapsed": true
   },
   "outputs": [],
   "source": [
    "table=[max(maxMargin(seq))]"
   ]
  },
  {
   "cell_type": "code",
   "execution_count": 131,
   "metadata": {
    "collapsed": false
   },
   "outputs": [
    {
     "data": {
      "text/plain": [
       "[4]"
      ]
     },
     "execution_count": 131,
     "metadata": {},
     "output_type": "execute_result"
    }
   ],
   "source": [
    "table"
   ]
  },
  {
   "cell_type": "code",
   "execution_count": 132,
   "metadata": {
    "collapsed": true
   },
   "outputs": [],
   "source": [
    "import copy"
   ]
  },
  {
   "cell_type": "code",
   "execution_count": 133,
   "metadata": {
    "collapsed": false
   },
   "outputs": [
    {
     "name": "stdout",
     "output_type": "stream",
     "text": [
      "[4, 2, 3, 7, 6] [3, 2, 3, 7, 6]\n",
      "[4, 2, 3, 7, 6] [4, 1, 3, 7, 6]\n",
      "[4, 2, 3, 7, 6] [4, 2, 2, 7, 6]\n",
      "[4, 2, 3, 7, 6] [4, 2, 3, 6, 6]\n",
      "[4, 2, 3, 7, 6] [4, 2, 3, 7, 5]\n",
      "[4, 2, 3, 6, 6] [3, 2, 3, 6, 6]\n",
      "[4, 2, 3, 6, 6] [4, 1, 3, 6, 6]\n",
      "[4, 2, 3, 6, 6] [4, 2, 2, 6, 6]\n",
      "[4, 2, 3, 6, 6] [4, 2, 3, 5, 6]\n",
      "[4, 2, 3, 6, 6] [4, 2, 3, 6, 5]\n",
      "[4, 2, 3, 5, 6] [3, 2, 3, 5, 6]\n",
      "[4, 2, 3, 5, 6] [4, 1, 3, 5, 6]\n",
      "[4, 2, 3, 5, 6] [4, 2, 2, 5, 6]\n",
      "[4, 2, 3, 5, 6] [4, 2, 3, 4, 6]\n",
      "[4, 2, 3, 5, 6] [4, 2, 3, 5, 5]\n",
      "[3, 2, 3, 5, 6] [2, 2, 3, 5, 6]\n",
      "[3, 2, 3, 5, 6] [3, 1, 3, 5, 6]\n",
      "[3, 2, 3, 5, 6] [3, 2, 2, 5, 6]\n",
      "[3, 2, 3, 5, 6] [3, 2, 3, 4, 6]\n",
      "[3, 2, 3, 5, 6] [3, 2, 3, 5, 5]\n",
      "[2, 2, 3, 5, 6] [1, 2, 3, 5, 6]\n",
      "[2, 2, 3, 5, 6] [2, 1, 3, 5, 6]\n",
      "[2, 2, 3, 5, 6] [2, 2, 2, 5, 6]\n",
      "[2, 2, 3, 5, 6] [2, 2, 3, 4, 6]\n",
      "[2, 2, 3, 5, 6] [2, 2, 3, 5, 5]\n"
     ]
    }
   ],
   "source": [
    "for j in range(limit):\n",
    "    minim = 100000\n",
    "    index = -1\n",
    "    margin_seq = maxMargin(seq)\n",
    "    count = margin_seq.count(table[j-1])\n",
    "    \n",
    "    if count == 1:\n",
    "        max_var_idx = margin_seq.index(table[j-1])\n",
    "        if seq[max_var_idx] > seq[max_var_idx+1] and seq[max_var_idx] > 2:\n",
    "            seq[max_var_idx]-=1\n",
    "        elif seq[max_var_idx] < seq[max_var_idx+1] and seq[max_var_idx+1] > 2:\n",
    "            seq[max_var_idx+1]-=1\n",
    "    \n",
    "    else:\n",
    "        for i in range(len(margin_seq)):\n",
    "            \n",
    "            if margin_seq[i] == table[j-1]:\n",
    "                temp = copy.deepcopy(seq)\n",
    "                temp[i]-=1\n",
    "                temp_max = max(maxMargin(temp))\n",
    "                if temp_max <= table[j-1] and temp_max < minim:\n",
    "                    index = i\n",
    "                    minim = temp_max\n",
    "            \n",
    "             if index != -1:\n",
    "        seq[index]-=1\n",
    "    \n",
    "   \n",
    "\n",
    "               \n",
    "    table.append(max(maxMargin(seq)))\n",
    "    \n",
    "#     margin_seq = maxMargin(seq)\n",
    "#     max_var_idx = margin_seq.index(max(margin_seq))\n",
    "    \n",
    "#     # 같은 마진으로 오름차순으로 있을 때 제일 큰 왼쪽 애를 줄여야 함..\n",
    "    \n",
    "#     count = margin_seq.count(max(margin_seq))\n",
    "    \n",
    "#     \n",
    "    \n",
    "#     else:\n",
    "        \n",
    "    \n",
    "#     if max_var_idx != length-2 and margin_seq[max_var_idx] == margin_seq[max_var_idx+1]:\n",
    "#         if seq[max_var_idx] > seq[max_var_idx+2] and seq[max_var_idx] > 2:\n",
    "#             seq[max_var_idx]-=1\n",
    "#         elif seq[max_var_idx] < seq[max_var_idx+2] and seq[max_var_idx+2] > 2:\n",
    "#             seq[max_var_idx+2]-=1\n",
    "#     else:\n",
    "#         if seq[max_var_idx] > seq[max_var_idx+1] and seq[max_var_idx] > 2:\n",
    "#             seq[max_var_idx]-=1\n",
    "#         elif seq[max_var_idx] < seq[max_var_idx+1] and seq[max_var_idx+1] > 2:\n",
    "#             seq[max_var_idx+1]-=1"
   ]
  },
  {
   "cell_type": "code",
   "execution_count": 134,
   "metadata": {
    "collapsed": false
   },
   "outputs": [
    {
     "data": {
      "text/plain": [
       "[1, 1, 2, 1]"
      ]
     },
     "execution_count": 134,
     "metadata": {},
     "output_type": "execute_result"
    }
   ],
   "source": [
    "maxMargin(seq)"
   ]
  },
  {
   "cell_type": "code",
   "execution_count": 135,
   "metadata": {
    "collapsed": false
   },
   "outputs": [
    {
     "data": {
      "text/plain": [
       "[4, 3, 2, 2, 2, 2]"
      ]
     },
     "execution_count": 135,
     "metadata": {},
     "output_type": "execute_result"
    }
   ],
   "source": [
    "table"
   ]
  },
  {
   "cell_type": "code",
   "execution_count": 136,
   "metadata": {
    "collapsed": false
   },
   "outputs": [
    {
     "name": "stdout",
     "output_type": "stream",
     "text": [
      "1 2 3 5 6\n"
     ]
    }
   ],
   "source": [
    "answer = ' '.join([str(s) for s in seq])\n",
    "\n",
    "print(answer)"
   ]
  },
  {
   "cell_type": "code",
   "execution_count": null,
   "metadata": {
    "collapsed": true
   },
   "outputs": [],
   "source": []
  }
 ],
 "metadata": {
  "kernelspec": {
   "display_name": "Python 3",
   "language": "python",
   "name": "python3"
  },
  "language_info": {
   "codemirror_mode": {
    "name": "ipython",
    "version": 3
   },
   "file_extension": ".py",
   "mimetype": "text/x-python",
   "name": "python",
   "nbconvert_exporter": "python",
   "pygments_lexer": "ipython3",
   "version": "3.4.3"
  }
 },
 "nbformat": 4,
 "nbformat_minor": 2
}
